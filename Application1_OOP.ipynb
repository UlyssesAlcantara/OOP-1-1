{
  "nbformat": 4,
  "nbformat_minor": 0,
  "metadata": {
    "colab": {
      "name": "Application1-OOP.ipynb",
      "provenance": [],
      "authorship_tag": "ABX9TyPrajUEzPQje0IxIRJkXZDI",
      "include_colab_link": true
    },
    "kernelspec": {
      "name": "python3",
      "display_name": "Python 3"
    },
    "language_info": {
      "name": "python"
    }
  },
  "cells": [
    {
      "cell_type": "markdown",
      "metadata": {
        "id": "view-in-github",
        "colab_type": "text"
      },
      "source": [
        "<a href=\"https://colab.research.google.com/github/UlyssesAlcantara/OOP-1-1/blob/main/Application1_OOP.ipynb\" target=\"_parent\"><img src=\"https://colab.research.google.com/assets/colab-badge.svg\" alt=\"Open In Colab\"/></a>"
      ]
    },
    {
      "cell_type": "code",
      "execution_count": 3,
      "metadata": {
        "colab": {
          "base_uri": "https://localhost:8080/"
        },
        "id": "LfX_EzTKglwy",
        "outputId": "777d69be-8484-4ffc-b175-ce07f5010b68"
      },
      "outputs": [
        {
          "output_type": "stream",
          "name": "stdout",
          "text": [
            "Alcantara\n",
            "Prelims Grade: 1.25\n",
            "Midterms Grade: 2.0\n",
            "Final Grade: 1.75\n",
            "1.6666666666666667 \n",
            "\n",
            "Dela Cruz\n",
            "Prelims Grade: 1.0\n",
            "Midterms Grade: 1.25\n",
            "Final Grade: 1.0\n",
            "1.0833333333333333 \n",
            "\n",
            "Saulog\n",
            "Prelims Grade: 2.0\n",
            "Midterms Grade: 1.75\n",
            "Final Grade: 1.25\n",
            "1.6666666666666667\n"
          ]
        }
      ],
      "source": [
        "class Person:\n",
        "    def __init__(self, std1, std2, std3, pre, mid, fin):\n",
        "        #attributes\n",
        "        self.std1 = std1\n",
        "        self.std2 = std2\n",
        "        self.std3 = std3\n",
        "        self.pre = pre\n",
        "        self.mid = mid\n",
        "        self.fin = fin\n",
        "\n",
        "    # method\n",
        "    def Grade(self):\n",
        "        return (self.pre + self.mid + self.fin)/3\n",
        "\n",
        "    def Student1(self):\n",
        "        print(f\"{self.std1}\\nPrelims Grade: {self.pre}\\nMidterms Grade: {self.mid}\\nFinal Grade: {self.fin}\")\n",
        "\n",
        "    def Student2(self):\n",
        "        print(f\"{self.std2}\\nPrelims Grade: {self.pre}\\nMidterms Grade: {self.mid}\\nFinal Grade: {self.fin}\")\n",
        "\n",
        "    def Student3(self):\n",
        "        print(f\"{self.std3}\\nPrelims Grade: {self.pre}\\nMidterms Grade: {self.mid}\\nFinal Grade: {self.fin}\")\n",
        "\n",
        "student1 = Person(\"Alcantara\", \" \", \" \", 1.25, 2.00, 1.75)\n",
        "student2 = Person(\" \", \"Dela Cruz\", \" \", 1.00, 1.25, 1.00)\n",
        "student3 = Person(\" \", \" \", \"Saulog\", 2.00, 1.75, 1.25)\n",
        "student1.Student1()\n",
        "print(student1.Grade(), \"\\n\") \n",
        "student2.Student2()\n",
        "print(student2.Grade(), \"\\n\") \n",
        "student3.Student3()\n",
        "print(student3.Grade()) "
      ]
    }
  ]
}