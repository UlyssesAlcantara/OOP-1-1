{
  "nbformat": 4,
  "nbformat_minor": 0,
  "metadata": {
    "colab": {
      "name": "Prelim-Exam.ipynb",
      "provenance": [],
      "authorship_tag": "ABX9TyOeIxfCE94U1fGBvssgsKec",
      "include_colab_link": true
    },
    "kernelspec": {
      "name": "python3",
      "display_name": "Python 3"
    },
    "language_info": {
      "name": "python"
    }
  },
  "cells": [
    {
      "cell_type": "markdown",
      "metadata": {
        "id": "view-in-github",
        "colab_type": "text"
      },
      "source": [
        "<a href=\"https://colab.research.google.com/github/UlyssesAlcantara/OOP-1-1/blob/main/Prelim_Exam.ipynb\" target=\"_parent\"><img src=\"https://colab.research.google.com/assets/colab-badge.svg\" alt=\"Open In Colab\"/></a>"
      ]
    },
    {
      "cell_type": "code",
      "execution_count": 6,
      "metadata": {
        "colab": {
          "base_uri": "https://localhost:8080/"
        },
        "id": "UNFyQyRh4uee",
        "outputId": "3eafe6fa-ef7e-418e-df94-7c33d4fa41b7"
      },
      "outputs": [
        {
          "output_type": "stream",
          "name": "stdout",
          "text": [
            "Ulysses Alcantara\n",
            "202102226\n",
            "19\n",
            "BS in Computer Engineering\n"
          ]
        }
      ],
      "source": [
        "class Student:\n",
        "  def __init__(self,Name,Student_no,Age,Course):\n",
        "    self.Name=Name\n",
        "    self.Student_no=Student_no\n",
        "    self.Age=Age\n",
        "    self.Course=Course\n",
        "\n",
        "  def Myself(self):\n",
        "    print(self.Name)\n",
        "    print(self.Student_no)\n",
        "    print(self.Age)\n",
        "    print(self.Course)\n",
        "\n",
        "student=Student(\"Ulysses Alcantara\",\"202102226\",\"19\",\"BS in Computer Engineering\")\n",
        "student.Myself()"
      ]
    }
  ]
}