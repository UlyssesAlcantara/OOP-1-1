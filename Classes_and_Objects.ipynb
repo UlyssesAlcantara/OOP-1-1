{
  "nbformat": 4,
  "nbformat_minor": 0,
  "metadata": {
    "colab": {
      "name": "Classes_and_Objects.ipynb",
      "provenance": [],
      "authorship_tag": "ABX9TyNay8ZdIKGk82ZhjJaa6Cj7",
      "include_colab_link": true
    },
    "kernelspec": {
      "name": "python3",
      "display_name": "Python 3"
    },
    "language_info": {
      "name": "python"
    }
  },
  "cells": [
    {
      "cell_type": "markdown",
      "metadata": {
        "id": "view-in-github",
        "colab_type": "text"
      },
      "source": [
        "<a href=\"https://colab.research.google.com/github/UlyssesAlcantara/OOP-1-1/blob/main/Classes_and_Objects.ipynb\" target=\"_parent\"><img src=\"https://colab.research.google.com/assets/colab-badge.svg\" alt=\"Open In Colab\"/></a>"
      ]
    },
    {
      "cell_type": "code",
      "execution_count": 20,
      "metadata": {
        "colab": {
          "base_uri": "https://localhost:8080/"
        },
        "id": "6yVfZgIqymVW",
        "outputId": "a2b4705e-ad5b-483d-8813-d1788a9ffc8c"
      },
      "outputs": [
        {
          "output_type": "stream",
          "name": "stdout",
          "text": [
            "174.96\n",
            "38.88\n"
          ]
        }
      ],
      "source": [
        "class Circle:\n",
        "\n",
        "  def __init__(self,PI,Radius):\n",
        "   self.PI=PI\n",
        "   self.Radius=Radius\n",
        "\n",
        "  def Area(self):\n",
        "    print(self.PI*self.Radius*self.Radius)\n",
        "\n",
        "  def Perimeter(self):\n",
        "    print(2*self.PI*self.Radius)\n",
        "\n",
        "circle=Circle(2.16,9)\n",
        "circle.Area()\n",
        "circle.Perimeter()\n"
      ]
    }
  ]
}